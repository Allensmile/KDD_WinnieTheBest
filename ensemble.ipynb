{
 "cells": [
  {
   "cell_type": "code",
   "execution_count": 1,
   "metadata": {},
   "outputs": [],
   "source": [
    "import numpy as np\n",
    "import pandas as pd\n",
    "from tqdm.auto import tqdm\n",
    "from collections import Counter\n",
    "from os import listdir\n",
    "import base64, json, csv\n",
    "import matplotlib.pyplot as plt"
   ]
  },
  {
   "cell_type": "code",
   "execution_count": 2,
   "metadata": {},
   "outputs": [],
   "source": [
    "def load_data(file_name, reset=False):\n",
    "    ret = pd.read_csv(file_name, sep='\\t')\n",
    "    return ret"
   ]
  },
  {
   "cell_type": "code",
   "execution_count": 3,
   "metadata": {},
   "outputs": [],
   "source": [
    "path = '/tmp/r08922010/kdd2020/'\n",
    "valid = load_data(path+'valid.tsv')\n",
    "testA = load_data(path+'testA.tsv')\n",
    "testB = load_data(path+'testB.tsv')"
   ]
  },
  {
   "cell_type": "code",
   "execution_count": 4,
   "metadata": {},
   "outputs": [],
   "source": [
    "def sig(x):\n",
    "    return 1/(1+np.e**(-x))\n",
    "\n",
    "def load_one_file(filename, na_val, pad_len, method):\n",
    "    preds = pd.read_csv(filename).fillna(na_val)\n",
    "    qid2score = {}\n",
    "    \n",
    "    for row in preds.values:\n",
    "        pid, score = row[1:pad_len+1], row[pad_len+1:]\n",
    "        l = len([x for x in pid if x != na_val])\n",
    "        if method == 'vote': qid2score[row[0]] = {pid[i]: weight[i] for i in range(l)}\n",
    "        else: qid2score[row[0]] = {pid[i]: score[i] for i in range(l)}\n",
    "        \n",
    "    return qid2score\n",
    "\n",
    "def ensemble(filenames, na_val, pad_len, thd, method='vote'):\n",
    "    counts = Counter(valid['product_id'].values.tolist()+testA['product_id'].values.tolist()+testB['product_id'].values.tolist())\n",
    "    print('loading files...')\n",
    "    # first file\n",
    "    qid2score = load_one_file(path+filenames[0], na_val, pad_len, method)\n",
    "    # other files\n",
    "    for filename in tqdm(filenames[1:]):\n",
    "        q2s = load_one_file(path+filename, na_val, pad_len, method)\n",
    "        # update score\n",
    "        for qid in list(qid2score.keys()):\n",
    "            for pid in list(qid2score[qid].keys()):\n",
    "                qid2score[qid][pid] += q2s[qid][pid]\n",
    "    # ensemble\n",
    "    print('ensembling...')\n",
    "    preds = {}\n",
    "    for qid in tqdm(list(qid2score.keys())):\n",
    "        pred = [(pid, qid2score[qid][pid]) for pid in list(qid2score[qid].keys())]\n",
    "        tmp_thd = thd\n",
    "        pred2 = [x for x in pred if counts[x[0]] <= tmp_thd]\n",
    "        while len(pred2) < 5:\n",
    "            tmp_thd += 1\n",
    "            pred2 = [x for x in pred if counts[x[0]] <= tmp_thd]\n",
    "        pred2.sort(key=lambda x: x[1], reverse=True)\n",
    "        preds[int(qid)] = [int(pid) for pid, _ in pred2[:5]]\n",
    "    return preds\n",
    "\n",
    "def nDCG_score(preds, answers):\n",
    "    iDCG = sum([sum([np.log(2)/np.log(i+2) for i in range(min(len(answer), 5))]) \\\n",
    "                for answer in list(answers.values())])\n",
    "    DCG = sum([sum([np.log(2)/np.log(i+2) if preds[qid][i] in answers[str(qid)] else 0 \\\n",
    "                    for i in range(len(preds[qid]))]) for qid in list(preds.keys())])\n",
    "    return DCG/iDCG"
   ]
  },
  {
   "cell_type": "code",
   "execution_count": 5,
   "metadata": {
    "scrolled": true
   },
   "outputs": [
    {
     "name": "stdout",
     "output_type": "stream",
     "text": [
      "loading files...\n"
     ]
    },
    {
     "data": {
      "application/vnd.jupyter.widget-view+json": {
       "model_id": "c9df3cc0b8cf4527a1da55347e04ab90",
       "version_major": 2,
       "version_minor": 0
      },
      "text/plain": [
       "HBox(children=(IntProgress(value=0, max=68), HTML(value='')))"
      ]
     },
     "metadata": {},
     "output_type": "display_data"
    },
    {
     "name": "stdout",
     "output_type": "stream",
     "text": [
      "\n",
      "ensembling...\n"
     ]
    },
    {
     "data": {
      "application/vnd.jupyter.widget-view+json": {
       "model_id": "5aac279225964874b4446513c3833888",
       "version_major": 2,
       "version_minor": 0
      },
      "text/plain": [
       "HBox(children=(IntProgress(value=0, max=994), HTML(value='')))"
      ]
     },
     "metadata": {},
     "output_type": "display_data"
    },
    {
     "name": "stdout",
     "output_type": "stream",
     "text": [
      "\n"
     ]
    }
   ],
   "source": [
    "path = 'predictions/'\n",
    "mcans = {5119: 38, 519: 39, 123: 36, 1234: 36, 12345: 31, 1213: 34, 207: 34,\n",
    "         1333: 37, 2020: 36, 1115: 36, 666: 32, 2574: 39, 89983: 38, 46555: 38, 86031: 39,\n",
    "         7414: 35, 71438: 38, 777: 35, 87: 35, 8787: 32, 878787: 30, 800061: 31, 856710: 31,\n",
    "         42: 38, 426: 36, 64: 38, 8864: 36, 26: 39, 7382: 39, 1010: 39, 1001: 36,\n",
    "         2330: 37, 612: 39, 24: 38, 25: 32, 2077: 35, 2049: 39, 2045: 39, 1917: 36,\n",
    "         78667: 36, 68654: 34, 56474: 33, 56464: 36, 54367: 37, 4547: 32, 437: 36, 485: 38,\n",
    "         132: 38, 257: 37, 584: 35, 931: 37, 792: 33, 603: 39, 746: 39, 480: 35}\n",
    "visuals = {413: 32, 807: 37, 9527: 38, 713: 36, 625: 38, 1324: 38,\n",
    "           987: 34, 116: 39, 41: 30, 145: 39,\n",
    "           7328: 32, 62: 35, 3951: 37, 9736: 38}\n",
    "f_m = ['prediction_all_cls2_{}_{}.csv'.format(seed, mcans[seed]) \\\n",
    "       for seed in list(mcans.keys()) if mcans[seed]]\n",
    "f_v = ['prediction_all_cls2_{}_{}.csv'.format(seed, visuals[seed]) \\\n",
    "       for seed in list(visuals.keys()) if visuals[seed]]\n",
    "add_visual = True\n",
    "filenames = f_m+f_v if add_visual else f_m\n",
    "weight = [1/i for i in range(1, 31)]\n",
    "na_val = -1e10\n",
    "pad_len = 30\n",
    "thd = 1\n",
    "method = 'sum'\n",
    "\n",
    "# emsemble\n",
    "preds = ensemble(filenames, na_val, pad_len, thd, method)\n",
    "# write to file\n",
    "header = ['query-id', 'product1', 'product2', 'product3', 'product4', 'product5']\n",
    "with open(path+'prediction_{}_{}_{}_cls.csv'.format(method, len(filenames), thd), 'w', newline='') as f:\n",
    "    w = csv.writer(f)\n",
    "    w.writerow(header)\n",
    "    for qid in sorted(list(preds.keys())):\n",
    "        w.writerow([qid]+preds[qid])"
   ]
  },
  {
   "cell_type": "code",
   "execution_count": 6,
   "metadata": {
    "scrolled": true
   },
   "outputs": [
    {
     "name": "stdout",
     "output_type": "stream",
     "text": [
      "mcan:visual = 55:14\n",
      "prediction_all_cls2_5119_38.csv: mean -> 0.195; std -> 0.254\n",
      "prediction_all_cls2_519_39.csv: mean -> 0.198; std -> 0.258\n",
      "prediction_all_cls2_123_36.csv: mean -> 0.2; std -> 0.261\n",
      "prediction_all_cls2_1234_36.csv: mean -> 0.212; std -> 0.24\n",
      "prediction_all_cls2_12345_31.csv: mean -> 0.197; std -> 0.257\n",
      "prediction_all_cls2_1213_34.csv: mean -> 0.198; std -> 0.258\n",
      "prediction_all_cls2_207_34.csv: mean -> 0.208; std -> 0.243\n",
      "prediction_all_cls2_1333_37.csv: mean -> 0.199; std -> 0.255\n",
      "prediction_all_cls2_2020_36.csv: mean -> 0.2; std -> 0.253\n",
      "prediction_all_cls2_1115_36.csv: mean -> 0.197; std -> 0.259\n",
      "prediction_all_cls2_666_32.csv: mean -> 0.199; std -> 0.254\n",
      "prediction_all_cls2_2574_39.csv: mean -> 0.198; std -> 0.254\n",
      "prediction_all_cls2_89983_38.csv: mean -> 0.202; std -> 0.258\n",
      "prediction_all_cls2_46555_38.csv: mean -> 0.198; std -> 0.258\n",
      "prediction_all_cls2_86031_39.csv: mean -> 0.196; std -> 0.257\n",
      "prediction_all_cls2_7414_35.csv: mean -> 0.207; std -> 0.235\n",
      "prediction_all_cls2_71438_38.csv: mean -> 0.199; std -> 0.258\n",
      "prediction_all_cls2_777_35.csv: mean -> 0.201; std -> 0.261\n",
      "prediction_all_cls2_87_35.csv: mean -> 0.199; std -> 0.257\n",
      "prediction_all_cls2_8787_32.csv: mean -> 0.205; std -> 0.26\n",
      "prediction_all_cls2_878787_30.csv: mean -> 0.199; std -> 0.259\n",
      "prediction_all_cls2_800061_31.csv: mean -> 0.205; std -> 0.246\n",
      "prediction_all_cls2_856710_31.csv: mean -> 0.195; std -> 0.255\n",
      "prediction_all_cls2_42_38.csv: mean -> 0.201; std -> 0.261\n",
      "prediction_all_cls2_426_36.csv: mean -> 0.202; std -> 0.254\n",
      "prediction_all_cls2_64_38.csv: mean -> 0.2; std -> 0.264\n",
      "prediction_all_cls2_8864_36.csv: mean -> 0.201; std -> 0.254\n",
      "prediction_all_cls2_26_39.csv: mean -> 0.203; std -> 0.255\n",
      "prediction_all_cls2_7382_39.csv: mean -> 0.202; std -> 0.252\n",
      "prediction_all_cls2_1010_39.csv: mean -> 0.201; std -> 0.256\n",
      "prediction_all_cls2_1001_36.csv: mean -> 0.196; std -> 0.259\n",
      "prediction_all_cls2_2330_37.csv: mean -> 0.204; std -> 0.246\n",
      "prediction_all_cls2_612_39.csv: mean -> 0.199; std -> 0.263\n",
      "prediction_all_cls2_24_38.csv: mean -> 0.199; std -> 0.254\n",
      "prediction_all_cls2_25_32.csv: mean -> 0.199; std -> 0.258\n",
      "prediction_all_cls2_2077_35.csv: mean -> 0.197; std -> 0.257\n",
      "prediction_all_cls2_2049_39.csv: mean -> 0.192; std -> 0.256\n",
      "prediction_all_cls2_2045_39.csv: mean -> 0.201; std -> 0.262\n",
      "prediction_all_cls2_1917_36.csv: mean -> 0.198; std -> 0.257\n",
      "prediction_all_cls2_78667_36.csv: mean -> 0.203; std -> 0.262\n",
      "prediction_all_cls2_68654_34.csv: mean -> 0.195; std -> 0.253\n",
      "prediction_all_cls2_56474_33.csv: mean -> 0.194; std -> 0.255\n",
      "prediction_all_cls2_56464_36.csv: mean -> 0.205; std -> 0.262\n",
      "prediction_all_cls2_54367_37.csv: mean -> 0.204; std -> 0.242\n",
      "prediction_all_cls2_4547_32.csv: mean -> 0.199; std -> 0.258\n",
      "prediction_all_cls2_437_36.csv: mean -> 0.2; std -> 0.258\n",
      "prediction_all_cls2_485_38.csv: mean -> 0.196; std -> 0.251\n",
      "prediction_all_cls2_132_38.csv: mean -> 0.194; std -> 0.253\n",
      "prediction_all_cls2_257_37.csv: mean -> 0.204; std -> 0.263\n",
      "prediction_all_cls2_584_35.csv: mean -> 0.197; std -> 0.254\n",
      "prediction_all_cls2_931_37.csv: mean -> 0.195; std -> 0.255\n",
      "prediction_all_cls2_792_33.csv: mean -> 0.2; std -> 0.244\n",
      "prediction_all_cls2_603_39.csv: mean -> 0.202; std -> 0.26\n",
      "prediction_all_cls2_746_39.csv: mean -> 0.2; std -> 0.253\n",
      "prediction_all_cls2_480_35.csv: mean -> 0.2; std -> 0.259\n",
      "prediction_all_cls2_413_32.csv: mean -> 0.203; std -> 0.264\n",
      "prediction_all_cls2_807_37.csv: mean -> 0.209; std -> 0.255\n",
      "prediction_all_cls2_9527_38.csv: mean -> 0.199; std -> 0.256\n",
      "prediction_all_cls2_713_36.csv: mean -> 0.207; std -> 0.252\n",
      "prediction_all_cls2_625_38.csv: mean -> 0.203; std -> 0.248\n",
      "prediction_all_cls2_1324_38.csv: mean -> 0.208; std -> 0.258\n",
      "prediction_all_cls2_987_34.csv: mean -> 0.206; std -> 0.25\n",
      "prediction_all_cls2_116_39.csv: mean -> 0.207; std -> 0.263\n",
      "prediction_all_cls2_41_30.csv: mean -> 0.201; std -> 0.259\n",
      "prediction_all_cls2_145_39.csv: mean -> 0.207; std -> 0.267\n",
      "prediction_all_cls2_7328_32.csv: mean -> 0.201; std -> 0.257\n",
      "prediction_all_cls2_62_35.csv: mean -> 0.203; std -> 0.256\n",
      "prediction_all_cls2_3951_37.csv: mean -> 0.201; std -> 0.259\n",
      "prediction_all_cls2_9736_38.csv: mean -> 0.197; std -> 0.257\n"
     ]
    }
   ],
   "source": [
    "means = []\n",
    "stds = []\n",
    "n_mcan = sum([1 for seed in list(mcans.keys()) if mcans[seed]])\n",
    "n_visual = sum([1 for seed in list(visuals.keys()) if visuals[seed]])\n",
    "print('mcan:visual = {}:{}'.format(n_mcan, n_visual))\n",
    "\n",
    "for filename in filenames:\n",
    "    qid2score = load_one_file(path+filename, na_val, pad_len, method)\n",
    "    scores = [score for qid in list(qid2score.keys()) \\\n",
    "              for score in list(qid2score[qid].values()) if score != na_val]\n",
    "    mean = sum(scores)/len(scores)\n",
    "    std = (sum([score**2 for score in scores])/len(scores) - mean**2)**0.5\n",
    "    means.append(mean)\n",
    "    stds.append(std)\n",
    "    print('{}: mean -> {}; std -> {}'.format(filename, round(mean, 3), round(std, 3)))"
   ]
  },
  {
   "cell_type": "code",
   "execution_count": 7,
   "metadata": {},
   "outputs": [
    {
     "data": {
      "text/plain": [
       "(array([ 2.,  7., 10., 16., 14.,  7.,  5.,  6.,  1.,  1.]),\n",
       " array([0.19226365, 0.19425656, 0.19624948, 0.19824239, 0.2002353 ,\n",
       "        0.20222821, 0.20422113, 0.20621404, 0.20820695, 0.21019986,\n",
       "        0.21219278]),\n",
       " <a list of 10 Patch objects>)"
      ]
     },
     "execution_count": 7,
     "metadata": {},
     "output_type": "execute_result"
    },
    {
     "data": {
      "image/png": "[encoded data removed]",
      "text/plain": [
       "<Figure size 432x288 with 1 Axes>"
      ]
     },
     "metadata": {
      "needs_background": "light"
     },
     "output_type": "display_data"
    }
   ],
   "source": [
    "plt.hist(means)"
   ]
  },
  {
   "cell_type": "code",
   "execution_count": 8,
   "metadata": {},
   "outputs": [
    {
     "data": {
      "text/plain": [
       "(array([ 1.,  1.,  3.,  2.,  2.,  9., 19., 20.,  9.,  3.]),\n",
       " array([0.23514857, 0.23829719, 0.24144581, 0.24459443, 0.24774306,\n",
       "        0.25089168, 0.2540403 , 0.25718893, 0.26033755, 0.26348617,\n",
       "        0.26663479]),\n",
       " <a list of 10 Patch objects>)"
      ]
     },
     "execution_count": 8,
     "metadata": {},
     "output_type": "execute_result"
    },
    {
     "data": {
      "image/png": "[encoded data removed]",
      "text/plain": [
       "<Figure size 432x288 with 1 Axes>"
      ]
     },
     "metadata": {
      "needs_background": "light"
     },
     "output_type": "display_data"
    }
   ],
   "source": [
    "plt.hist(stds)"
   ]
  }
 ],
 "metadata": {
  "kernelspec": {
   "display_name": "Python 3",
   "language": "python",
   "name": "python3"
  },
  "language_info": {
   "codemirror_mode": {
    "name": "ipython",
    "version": 3
   },
   "file_extension": ".py",
   "mimetype": "text/x-python",
   "name": "python",
   "nbconvert_exporter": "python",
   "pygments_lexer": "ipython3",
   "version": "3.7.4"
  }
 },
 "nbformat": 4,
 "nbformat_minor": 4
}
